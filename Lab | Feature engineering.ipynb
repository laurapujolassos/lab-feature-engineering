{
 "cells": [
  {
   "cell_type": "code",
   "execution_count": 1,
   "id": "c0b293a9",
   "metadata": {},
   "outputs": [],
   "source": [
    "# Check for null values in the numerical columns."
   ]
  },
  {
   "cell_type": "code",
   "execution_count": 1,
   "id": "7648a4e5",
   "metadata": {},
   "outputs": [],
   "source": [
    "import pandas as pd\n",
    "import numpy as np\n",
    "import datetime\n",
    "import warnings\n",
    "import matplotlib.pyplot as plt\n",
    "import seaborn as sns\n",
    "\n",
    "warnings.filterwarnings('ignore')"
   ]
  },
  {
   "cell_type": "code",
   "execution_count": 2,
   "id": "5181a802",
   "metadata": {},
   "outputs": [],
   "source": [
    "data = pd.read_csv('learningSet.csv')"
   ]
  },
  {
   "cell_type": "code",
   "execution_count": 3,
   "id": "c8df1e69",
   "metadata": {},
   "outputs": [],
   "source": [
    "categorical = data.select_dtypes(object)\n",
    "numerical = data.select_dtypes(np.number)"
   ]
  },
  {
   "cell_type": "code",
   "execution_count": 4,
   "id": "e0b1df5c",
   "metadata": {},
   "outputs": [
    {
     "data": {
      "text/plain": [
       "ODATEDW         0\n",
       "TCODE           0\n",
       "DOB             0\n",
       "AGE         23665\n",
       "NUMCHLD     83026\n",
       "            ...  \n",
       "TARGET_B        0\n",
       "TARGET_D        0\n",
       "HPHONE_D        0\n",
       "RFA_2F          0\n",
       "CLUSTER2      132\n",
       "Length: 407, dtype: int64"
      ]
     },
     "execution_count": 4,
     "metadata": {},
     "output_type": "execute_result"
    }
   ],
   "source": [
    "numerical.isna().sum() "
   ]
  },
  {
   "cell_type": "code",
   "execution_count": 5,
   "id": "d2674408",
   "metadata": {},
   "outputs": [],
   "source": [
    "# Use appropriate methods to clean the columns GEOCODE2, WEALTH1, ADI, DMA,and MSA."
   ]
  },
  {
   "cell_type": "code",
   "execution_count": 6,
   "id": "ead69972",
   "metadata": {},
   "outputs": [
    {
     "data": {
      "text/plain": [
       "A    34484\n",
       "B    28505\n",
       "D    16580\n",
       "C    15524\n",
       "       187\n",
       "Name: GEOCODE2, dtype: int64"
      ]
     },
     "execution_count": 6,
     "metadata": {},
     "output_type": "execute_result"
    }
   ],
   "source": [
    "data[\"GEOCODE2\"].value_counts()"
   ]
  },
  {
   "cell_type": "code",
   "execution_count": 7,
   "id": "517d047e",
   "metadata": {},
   "outputs": [
    {
     "data": {
      "text/plain": [
       "array(['C', 'A', 'D', 'B', ' ', nan], dtype=object)"
      ]
     },
     "execution_count": 7,
     "metadata": {},
     "output_type": "execute_result"
    }
   ],
   "source": [
    "data['GEOCODE2'].unique()"
   ]
  },
  {
   "cell_type": "code",
   "execution_count": 8,
   "id": "a9c2a72f",
   "metadata": {},
   "outputs": [
    {
     "data": {
      "text/plain": [
       "132"
      ]
     },
     "execution_count": 8,
     "metadata": {},
     "output_type": "execute_result"
    }
   ],
   "source": [
    "data['GEOCODE2'].isna().sum() "
   ]
  },
  {
   "cell_type": "code",
   "execution_count": 9,
   "id": "796bb0b7",
   "metadata": {},
   "outputs": [],
   "source": [
    "for col in data.columns:\n",
    "    if 'GEOCODE2' in col:\n",
    "        data[col] = data[col].fillna(\"other\")"
   ]
  },
  {
   "cell_type": "code",
   "execution_count": 10,
   "id": "be03eb09",
   "metadata": {},
   "outputs": [
    {
     "data": {
      "text/plain": [
       "9.0    7585\n",
       "8.0    6793\n",
       "7.0    6198\n",
       "6.0    5825\n",
       "5.0    5280\n",
       "4.0    4810\n",
       "3.0    4237\n",
       "2.0    4085\n",
       "1.0    3454\n",
       "0.0    2413\n",
       "Name: WEALTH1, dtype: int64"
      ]
     },
     "execution_count": 10,
     "metadata": {},
     "output_type": "execute_result"
    }
   ],
   "source": [
    "data[\"WEALTH1\"].value_counts()"
   ]
  },
  {
   "cell_type": "code",
   "execution_count": 11,
   "id": "b81b88da",
   "metadata": {},
   "outputs": [
    {
     "data": {
      "text/plain": [
       "44732"
      ]
     },
     "execution_count": 11,
     "metadata": {},
     "output_type": "execute_result"
    }
   ],
   "source": [
    "data['WEALTH1'].isna().sum() "
   ]
  },
  {
   "cell_type": "code",
   "execution_count": 12,
   "id": "7e8d04a3",
   "metadata": {},
   "outputs": [
    {
     "data": {
      "text/plain": [
       "array([nan,  9.,  1.,  4.,  2.,  6.,  0.,  5.,  8.,  3.,  7.])"
      ]
     },
     "execution_count": 12,
     "metadata": {},
     "output_type": "execute_result"
    }
   ],
   "source": [
    "data['WEALTH1'].unique()"
   ]
  },
  {
   "cell_type": "code",
   "execution_count": 13,
   "id": "65ea9070",
   "metadata": {},
   "outputs": [],
   "source": [
    "data.dropna(subset=[\"WEALTH1\"], inplace=True)"
   ]
  },
  {
   "cell_type": "code",
   "execution_count": 14,
   "id": "2226e6fc",
   "metadata": {},
   "outputs": [
    {
     "data": {
      "text/plain": [
       "13.0     3345\n",
       "51.0     2628\n",
       "65.0     1910\n",
       "57.0     1537\n",
       "197.0    1284\n",
       "         ... \n",
       "601.0       1\n",
       "139.0       1\n",
       "145.0       1\n",
       "161.0       1\n",
       "140.0       1\n",
       "Name: ADI, Length: 200, dtype: int64"
      ]
     },
     "execution_count": 14,
     "metadata": {},
     "output_type": "execute_result"
    }
   ],
   "source": [
    "data[\"ADI\"].value_counts()"
   ]
  },
  {
   "cell_type": "code",
   "execution_count": 16,
   "id": "c13722a9",
   "metadata": {},
   "outputs": [],
   "source": [
    "ADI_count = data[\"ADI\"].value_counts()\n",
    "ADI_count = ADI_count[ADI_count > 500]"
   ]
  },
  {
   "cell_type": "code",
   "execution_count": 17,
   "id": "31fb65a0",
   "metadata": {},
   "outputs": [
    {
     "data": {
      "text/plain": [
       "13.0     3345\n",
       "51.0     2628\n",
       "65.0     1910\n",
       "57.0     1537\n",
       "197.0    1284\n",
       "105.0    1281\n",
       "109.0    1160\n",
       "107.0    1094\n",
       "131.0    1067\n",
       "201.0    1030\n",
       "75.0     1011\n",
       "329.0     996\n",
       "127.0     964\n",
       "241.0     894\n",
       "67.0      859\n",
       "275.0     802\n",
       "233.0     794\n",
       "83.0      743\n",
       "15.0      736\n",
       "111.0     711\n",
       "351.0     671\n",
       "157.0     615\n",
       "129.0     614\n",
       "279.0     598\n",
       "59.0      582\n",
       "213.0     519\n",
       "Name: ADI, dtype: int64"
      ]
     },
     "execution_count": 17,
     "metadata": {},
     "output_type": "execute_result"
    }
   ],
   "source": [
    "ADI_count"
   ]
  },
  {
   "cell_type": "code",
   "execution_count": 18,
   "id": "03f5e559",
   "metadata": {},
   "outputs": [
    {
     "data": {
      "text/plain": [
       "32"
      ]
     },
     "execution_count": 18,
     "metadata": {},
     "output_type": "execute_result"
    }
   ],
   "source": [
    "data['ADI'].isna().sum() "
   ]
  },
  {
   "cell_type": "code",
   "execution_count": 19,
   "id": "5ad659ce",
   "metadata": {},
   "outputs": [],
   "source": [
    "data.dropna(subset=[\"ADI\"], inplace=True)"
   ]
  },
  {
   "cell_type": "code",
   "execution_count": 20,
   "id": "4d5cac32",
   "metadata": {},
   "outputs": [
    {
     "data": {
      "text/plain": [
       "803.0    3345\n",
       "602.0    2630\n",
       "807.0    1910\n",
       "505.0    1538\n",
       "524.0    1285\n",
       "         ... \n",
       "584.0       1\n",
       "598.0       1\n",
       "538.0       1\n",
       "502.0       1\n",
       "552.0       1\n",
       "Name: DMA, Length: 201, dtype: int64"
      ]
     },
     "execution_count": 20,
     "metadata": {},
     "output_type": "execute_result"
    }
   ],
   "source": [
    "data[\"DMA\"].value_counts()"
   ]
  },
  {
   "cell_type": "code",
   "execution_count": 21,
   "id": "9605daa4",
   "metadata": {},
   "outputs": [
    {
     "data": {
      "text/plain": [
       "0"
      ]
     },
     "execution_count": 21,
     "metadata": {},
     "output_type": "execute_result"
    }
   ],
   "source": [
    "data['DMA'].isna().sum() "
   ]
  },
  {
   "cell_type": "code",
   "execution_count": 22,
   "id": "48fdc0c2",
   "metadata": {},
   "outputs": [
    {
     "data": {
      "text/plain": [
       "0.0       9734\n",
       "1600.0    2307\n",
       "4480.0    2185\n",
       "2160.0    1381\n",
       "520.0     1108\n",
       "          ... \n",
       "1480.0       1\n",
       "1320.0       1\n",
       "2281.0       1\n",
       "1303.0       1\n",
       "7610.0       1\n",
       "Name: MSA, Length: 287, dtype: int64"
      ]
     },
     "execution_count": 22,
     "metadata": {},
     "output_type": "execute_result"
    }
   ],
   "source": [
    "data[\"MSA\"].value_counts()"
   ]
  },
  {
   "cell_type": "code",
   "execution_count": 23,
   "id": "9ee27c39",
   "metadata": {},
   "outputs": [
    {
     "data": {
      "text/plain": [
       "0"
      ]
     },
     "execution_count": 23,
     "metadata": {},
     "output_type": "execute_result"
    }
   ],
   "source": [
    "data['MSA'].isna().sum() "
   ]
  },
  {
   "cell_type": "code",
   "execution_count": 24,
   "id": "fcdfd745",
   "metadata": {},
   "outputs": [],
   "source": [
    "MSA_count = data[\"ADI\"].value_counts()\n",
    "MSA_counts = MSA_count[MSA_count > 50]\n"
   ]
  },
  {
   "cell_type": "code",
   "execution_count": 25,
   "id": "906aa2b8",
   "metadata": {},
   "outputs": [
    {
     "data": {
      "text/plain": [
       "13.0     3345\n",
       "51.0     2628\n",
       "65.0     1910\n",
       "57.0     1537\n",
       "197.0    1284\n",
       "         ... \n",
       "467.0      59\n",
       "415.0      55\n",
       "251.0      54\n",
       "39.0       54\n",
       "621.0      52\n",
       "Name: ADI, Length: 139, dtype: int64"
      ]
     },
     "execution_count": 25,
     "metadata": {},
     "output_type": "execute_result"
    }
   ],
   "source": [
    "MSA_counts"
   ]
  },
  {
   "cell_type": "code",
   "execution_count": 26,
   "id": "3994cb83",
   "metadata": {},
   "outputs": [],
   "source": [
    "filtered_data = data[data[\"ADI\"].isin(MSA_counts.index)]"
   ]
  },
  {
   "cell_type": "code",
   "execution_count": null,
   "id": "7341bed8",
   "metadata": {},
   "outputs": [],
   "source": []
  }
 ],
 "metadata": {
  "kernelspec": {
   "display_name": "Python 3 (ipykernel)",
   "language": "python",
   "name": "python3"
  },
  "language_info": {
   "codemirror_mode": {
    "name": "ipython",
    "version": 3
   },
   "file_extension": ".py",
   "mimetype": "text/x-python",
   "name": "python",
   "nbconvert_exporter": "python",
   "pygments_lexer": "ipython3",
   "version": "3.9.12"
  }
 },
 "nbformat": 4,
 "nbformat_minor": 5
}
